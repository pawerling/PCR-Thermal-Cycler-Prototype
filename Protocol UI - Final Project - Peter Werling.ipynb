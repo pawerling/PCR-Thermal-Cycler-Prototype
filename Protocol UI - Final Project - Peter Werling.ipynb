{
 "cells": [
  {
   "cell_type": "markdown",
   "metadata": {},
   "source": [
    "# Create Heater Thermal Profiles"
   ]
  },
  {
   "cell_type": "code",
   "execution_count": 29,
   "metadata": {},
   "outputs": [],
   "source": [
    "%matplotlib inline\n",
    "\n",
    "import ipywidgets as widgets\n",
    "from IPython.display import display\n",
    "import numpy as np\n",
    "import matplotlib.pyplot as plt\n",
    "import pandas as pd\n",
    "\n",
    "def PCR_thermal_cycle(filename):\n",
    "\n",
    "    filename_text = widgets.Text(value=filename, description=\"Filename\")\n",
    "\n",
    "    heat_rate = widgets.FloatSlider(value = 0.31, min=0.1, max=2, step=0.01, description='Heat Rate')\n",
    "    cool_rate = widgets.FloatSlider(value = 0.31, min=0.1, max=2, step=0.01, description='Cooling Rate')\n",
    "    cycles = widgets.IntSlider(value=3, min=1, max=30, description=\"PCR Cycles\")\n",
    "\n",
    "    denaturation_label = widgets.Label('Denaturation', layout=widgets.Layout(width='80px'))\n",
    "    denaturation_temp = widgets.FloatSlider(value=94, min=92, max=98, step=0.1, description='Temperature', readout_format='0.1f')\n",
    "    denaturation_dur = widgets.BoundedIntText(value=90, min=60, max=120, step=1, description='Duration')\n",
    "    denaturation = widgets.HBox([denaturation_label, denaturation_temp, denaturation_dur])\n",
    "\n",
    "    annealing_label = widgets.Label('Annealing', layout=widgets.Layout(width='80px'))\n",
    "    annealing_temp = widgets.FloatSlider(value=60, min=50, max=65, step=0.1, description='Temperature', readout_format='0.1f')\n",
    "    annealing_dur = widgets.BoundedIntText(value=60, min=30, max=120, step=1, description='Duration')\n",
    "    annealing = widgets.HBox([annealing_label, annealing_temp, annealing_dur])\n",
    "\n",
    "    extension_label = widgets.Label('Extension', layout=widgets.Layout(width='80px'))\n",
    "    extension_temp = widgets.FloatSlider(value=70, min=68, max=72, step=0.1, description='Temperature', readout_format='0.1f')\n",
    "    extension_dur = widgets.BoundedIntText(value=90, min=30, max=180, step=1, description='Duration')\n",
    "    extension = widgets.HBox([extension_label, extension_temp, extension_dur])\n",
    "    \n",
    "   \n",
    "    def create_setpoint_trajectory(\n",
    "            filename_text,\n",
    "            heat_rate, cool_rate, cycles,\n",
    "            denaturation_temp, denaturation_dur, \n",
    "            annealing_temp, annealing_dur,\n",
    "            extension_temp, extension_dur,):\n",
    "        Ta = 22\n",
    "        tp = [0]\n",
    "        Tp = [Ta]   \n",
    "\n",
    "        for k in range(0, cycles):\n",
    "            # denaturation\n",
    "            tp.append(tp[-1] + (denaturation_temp - Tp[-1]) / heat_rate)\n",
    "            Tp.append(denaturation_temp)\n",
    "            tp.append(tp[-1] + denaturation_dur)\n",
    "            Tp.append(denaturation_temp)\n",
    "\n",
    "            # annealing\n",
    "            tp.append(tp[-1] - (annealing_temp - denaturation_temp) / cool_rate)\n",
    "            Tp.append(annealing_temp)\n",
    "            tp.append(tp[-1] + annealing_dur)\n",
    "            Tp.append(annealing_temp)\n",
    "\n",
    "            # extension\n",
    "            tp.append(tp[-1] + (extension_temp - annealing_temp) / heat_rate)\n",
    "            Tp.append(extension_temp)\n",
    "            tp.append(tp[-1] + extension_dur)\n",
    "            Tp.append(extension_temp)\n",
    "            \n",
    "    \n",
    "\n",
    "        tp.append(tp[-1] - (Ta - Tp[-1]) / cool_rate)\n",
    "        Tp.append(Ta)\n",
    "        fig, ax = plt.subplots(1, 1, figsize=(1 + max(tp)/500, 5))\n",
    "        ax.plot(tp, Tp)\n",
    "        ax.set_xlabel('time / sec')\n",
    "        ax.set_ylabel('temperature / deg C')\n",
    "        ax.set_title('PCR Temperature Program')\n",
    "        ax.plot(tp, Tp, 'r.', ms=3)\n",
    "        ax.grid(True)\n",
    "        df = pd.DataFrame()\n",
    "        df['tp'] = tp\n",
    "        df['Tp'] = Tp\n",
    "        df.to_csv(filename_text)\n",
    "\n",
    "    display(filename_text)\n",
    "    display(heat_rate)\n",
    "    display(cool_rate)\n",
    "    display(cycles)\n",
    "    display(denaturation)\n",
    "    display(annealing)\n",
    "    display(extension)\n",
    "\n",
    "    out = widgets.interactive_output(create_setpoint_trajectory, {\n",
    "        'filename_text': filename_text,\n",
    "        'heat_rate': heat_rate, \n",
    "        'cool_rate': cool_rate,\n",
    "        'cycles': cycles,\n",
    "        'denaturation_temp': denaturation_temp,\n",
    "        'denaturation_dur': denaturation_dur,\n",
    "        'annealing_temp': annealing_temp,\n",
    "        'annealing_dur': annealing_dur,\n",
    "        'extension_temp': extension_temp,\n",
    "        'extension_dur': extension_dur,\n",
    "        })\n",
    "\n",
    "    display(out)"
   ]
  },
  {
   "cell_type": "markdown",
   "metadata": {},
   "source": [
    "### Create Heater 1 Profile"
   ]
  },
  {
   "cell_type": "code",
   "execution_count": 30,
   "metadata": {},
   "outputs": [
    {
     "data": {
      "application/vnd.jupyter.widget-view+json": {
       "model_id": "bcd69831af3f4dfcab8f8d0d18a8bc16",
       "version_major": 2,
       "version_minor": 0
      },
      "text/plain": [
       "Text(value='pcr/pcr1.csv', description='Filename')"
      ]
     },
     "metadata": {},
     "output_type": "display_data"
    },
    {
     "data": {
      "application/vnd.jupyter.widget-view+json": {
       "model_id": "a721e0f95b314a6887d04228084726f8",
       "version_major": 2,
       "version_minor": 0
      },
      "text/plain": [
       "FloatSlider(value=0.31, description='Heat Rate', max=2.0, min=0.1, step=0.01)"
      ]
     },
     "metadata": {},
     "output_type": "display_data"
    },
    {
     "data": {
      "application/vnd.jupyter.widget-view+json": {
       "model_id": "225767b2e5d44ce2b4d597bba717efc2",
       "version_major": 2,
       "version_minor": 0
      },
      "text/plain": [
       "FloatSlider(value=0.31, description='Cooling Rate', max=2.0, min=0.1, step=0.01)"
      ]
     },
     "metadata": {},
     "output_type": "display_data"
    },
    {
     "data": {
      "application/vnd.jupyter.widget-view+json": {
       "model_id": "33b02af2bf6b482aab4c2b413900f585",
       "version_major": 2,
       "version_minor": 0
      },
      "text/plain": [
       "IntSlider(value=3, description='PCR Cycles', max=30, min=1)"
      ]
     },
     "metadata": {},
     "output_type": "display_data"
    },
    {
     "data": {
      "application/vnd.jupyter.widget-view+json": {
       "model_id": "29f54a3115834d5b8e3c65b5daafe182",
       "version_major": 2,
       "version_minor": 0
      },
      "text/plain": [
       "HBox(children=(Label(value='Denaturation', layout=Layout(width='80px')), FloatSlider(value=94.0, description='…"
      ]
     },
     "metadata": {},
     "output_type": "display_data"
    },
    {
     "data": {
      "application/vnd.jupyter.widget-view+json": {
       "model_id": "9f9821a2984e485fadf748f00a7f156e",
       "version_major": 2,
       "version_minor": 0
      },
      "text/plain": [
       "HBox(children=(Label(value='Annealing', layout=Layout(width='80px')), FloatSlider(value=60.0, description='Tem…"
      ]
     },
     "metadata": {},
     "output_type": "display_data"
    },
    {
     "data": {
      "application/vnd.jupyter.widget-view+json": {
       "model_id": "ed7d3724467b4a51b1bf11060bdab8ce",
       "version_major": 2,
       "version_minor": 0
      },
      "text/plain": [
       "HBox(children=(Label(value='Extension', layout=Layout(width='80px')), FloatSlider(value=70.0, description='Tem…"
      ]
     },
     "metadata": {},
     "output_type": "display_data"
    },
    {
     "data": {
      "application/vnd.jupyter.widget-view+json": {
       "model_id": "1d494d3b8e4b411a85d20acaad29716a",
       "version_major": 2,
       "version_minor": 0
      },
      "text/plain": [
       "Output()"
      ]
     },
     "metadata": {},
     "output_type": "display_data"
    }
   ],
   "source": [
    "PCR_thermal_cycle('pcr/pcr1.csv')"
   ]
  },
  {
   "cell_type": "markdown",
   "metadata": {},
   "source": [
    "### Create Heater 2 Profile"
   ]
  },
  {
   "cell_type": "code",
   "execution_count": 20,
   "metadata": {},
   "outputs": [
    {
     "data": {
      "application/vnd.jupyter.widget-view+json": {
       "model_id": "308fa96d0a4e4eb2b86a5827cf98cdf3",
       "version_major": 2,
       "version_minor": 0
      },
      "text/plain": [
       "Text(value='pcr/pcr2.csv', description='Filename')"
      ]
     },
     "metadata": {},
     "output_type": "display_data"
    },
    {
     "data": {
      "application/vnd.jupyter.widget-view+json": {
       "model_id": "bed0181db3b442e5aeab599f0006b869",
       "version_major": 2,
       "version_minor": 0
      },
      "text/plain": [
       "FloatSlider(value=0.31, description='Heat Rate', max=2.0, min=0.1, step=0.01)"
      ]
     },
     "metadata": {},
     "output_type": "display_data"
    },
    {
     "data": {
      "application/vnd.jupyter.widget-view+json": {
       "model_id": "cd14388826d14151be699ea638cd80fc",
       "version_major": 2,
       "version_minor": 0
      },
      "text/plain": [
       "FloatSlider(value=0.31, description='Cooling Rate', max=2.0, min=0.1, step=0.01)"
      ]
     },
     "metadata": {},
     "output_type": "display_data"
    },
    {
     "data": {
      "application/vnd.jupyter.widget-view+json": {
       "model_id": "2f62ae676a39420090617b547973fe99",
       "version_major": 2,
       "version_minor": 0
      },
      "text/plain": [
       "IntSlider(value=3, description='PCR Cycles', max=30, min=1)"
      ]
     },
     "metadata": {},
     "output_type": "display_data"
    },
    {
     "data": {
      "application/vnd.jupyter.widget-view+json": {
       "model_id": "6cfce0241cff44e5b4d92d530c40e883",
       "version_major": 2,
       "version_minor": 0
      },
      "text/plain": [
       "HBox(children=(Label(value='Denaturation', layout=Layout(width='80px')), FloatSlider(value=94.0, description='…"
      ]
     },
     "metadata": {},
     "output_type": "display_data"
    },
    {
     "data": {
      "application/vnd.jupyter.widget-view+json": {
       "model_id": "7c3c17240d8540b8af5d3f6980a434a5",
       "version_major": 2,
       "version_minor": 0
      },
      "text/plain": [
       "HBox(children=(Label(value='Annealing', layout=Layout(width='80px')), FloatSlider(value=60.0, description='Tem…"
      ]
     },
     "metadata": {},
     "output_type": "display_data"
    },
    {
     "data": {
      "application/vnd.jupyter.widget-view+json": {
       "model_id": "2e25078c159d469b998aeaaec08a2d58",
       "version_major": 2,
       "version_minor": 0
      },
      "text/plain": [
       "HBox(children=(Label(value='Extension', layout=Layout(width='80px')), FloatSlider(value=70.0, description='Tem…"
      ]
     },
     "metadata": {},
     "output_type": "display_data"
    },
    {
     "data": {
      "application/vnd.jupyter.widget-view+json": {
       "model_id": "ddd731fe971b45f8a17228a061317880",
       "version_major": 2,
       "version_minor": 0
      },
      "text/plain": [
       "Output()"
      ]
     },
     "metadata": {},
     "output_type": "display_data"
    }
   ],
   "source": [
    "PCR_thermal_cycle('pcr/pcr2.csv')"
   ]
  },
  {
   "cell_type": "markdown",
   "metadata": {},
   "source": [
    "## Translate Requested Profiles to Setpoints"
   ]
  },
  {
   "cell_type": "code",
   "execution_count": 24,
   "metadata": {},
   "outputs": [
    {
     "data": {
      "image/png": "[encoded data removed]",
      "text/plain": [
       "<Figure size 540x180 with 2 Axes>"
      ]
     },
     "metadata": {
      "needs_background": "light"
     },
     "output_type": "display_data"
    }
   ],
   "source": [
    "import glob\n",
    "import matplotlib.pyplot as plt\n",
    "import pandas as pd\n",
    "\n",
    "def get_data(file1, file2):\n",
    "    fig, ax = plt.subplots(1,2, figsize=(7.5,2.5))\n",
    "    if file1:\n",
    "        df1 = pd.read_csv(file1)\n",
    "        ax[0].plot(df1['tp'], df1['Tp'], 'b')\n",
    "    if file2:\n",
    "        df2 = pd.read_csv(file2)\n",
    "        ax[0].plot(df2['tp'], df2['Tp'], 'r')\n",
    "    ax[0].grid(True)\n",
    "    ax[0].set_xlabel('time / sec')\n",
    "    ax[0].set_ylabel('temperature / deg C')\n",
    "    ax[0].set_title('PCR Temperature Program')\n",
    "    if file1 and file2:\n",
    "        tmax = max(df1['tp'].max(), df2['tp'].max())\n",
    "        t = np.linspace(0, tmax, int(tmax+1))\n",
    "        u1 = lambda t: np.interp(t, df1['tp'].to_numpy(), df1['Tp'].to_numpy())\n",
    "        u2 = lambda t: np.interp(t, df2['tp'].to_numpy(), df2['Tp'].to_numpy())\n",
    "        ax[1].plot(u1(t), u2(t))\n",
    "        ax[1].axis('square')\n",
    "        return t, u1, u2, tmax\n",
    "\n",
    "t_ref, u1, u2, tmax = get_data('pcr/pcr1.csv', 'pcr/pcr2.csv')\n"
   ]
  },
  {
   "cell_type": "code",
   "execution_count": null,
   "metadata": {},
   "outputs": [],
   "source": []
  }
 ],
 "metadata": {
  "kernelspec": {
   "display_name": "Python 3",
   "language": "python",
   "name": "python3"
  },
  "language_info": {
   "codemirror_mode": {
    "name": "ipython",
    "version": 3
   },
   "file_extension": ".py",
   "mimetype": "text/x-python",
   "name": "python",
   "nbconvert_exporter": "python",
   "pygments_lexer": "ipython3",
   "version": "3.7.4"
  }
 },
 "nbformat": 4,
 "nbformat_minor": 2
}
